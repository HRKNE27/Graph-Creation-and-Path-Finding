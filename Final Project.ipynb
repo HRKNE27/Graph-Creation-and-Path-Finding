{
 "cells": [
  {
   "cell_type": "markdown",
   "metadata": {
    "collapsed": false
   },
   "source": [
    "# Final Project\n",
    "For my final project, I wanted to make a program that reads a CSV file and make a graph out of the file. After creating the graph, the program will find the shortest path between a chosen vertex and all other vertices in the graph. To do this, the program implements two algorithms, Dijstra's algorithm and Bellman-Ford Algorithm.\n",
    "\n",
    "These are the packages that I used to implement these two algoritms:"
   ]
  },
  {
   "cell_type": "code",
   "execution_count": 1,
   "metadata": {
    "collapsed": false
   },
   "outputs": [
    {
     "name": "stderr",
     "output_type": "stream",
     "text": [
      "\u001b[32m\u001b[1m   Resolving\u001b[22m\u001b[39m package versions...\n"
     ]
    },
    {
     "name": "stderr",
     "output_type": "stream",
     "text": [
      "\u001b[32m\u001b[1m  No Changes\u001b[22m\u001b[39m to `~/.julia/environment/v1.8/Project.toml`\n",
      "\u001b[32m\u001b[1m  No Changes\u001b[22m\u001b[39m to `~/.julia/environment/v1.8/Manifest.toml`\n"
     ]
    },
    {
     "name": "stderr",
     "output_type": "stream",
     "text": [
      "\u001b[32m\u001b[1m   Resolving\u001b[22m\u001b[39m package versions...\n"
     ]
    },
    {
     "name": "stderr",
     "output_type": "stream",
     "text": [
      "\u001b[32m\u001b[1m  No Changes\u001b[22m\u001b[39m to `~/.julia/environment/v1.8/Project.toml`\n",
      "\u001b[32m\u001b[1m  No Changes\u001b[22m\u001b[39m to `~/.julia/environment/v1.8/Manifest.toml`\n"
     ]
    },
    {
     "name": "stderr",
     "output_type": "stream",
     "text": [
      "\u001b[32m\u001b[1m   Resolving\u001b[22m\u001b[39m package versions...\n"
     ]
    },
    {
     "name": "stderr",
     "output_type": "stream",
     "text": [
      "\u001b[32m\u001b[1m  No Changes\u001b[22m\u001b[39m to `~/.julia/environment/v1.8/Project.toml`\n",
      "\u001b[32m\u001b[1m  No Changes\u001b[22m\u001b[39m to `~/.julia/environment/v1.8/Manifest.toml`\n"
     ]
    },
    {
     "name": "stderr",
     "output_type": "stream",
     "text": [
      "\u001b[32m\u001b[1m   Resolving\u001b[22m\u001b[39m package versions...\n"
     ]
    },
    {
     "name": "stderr",
     "output_type": "stream",
     "text": [
      "\u001b[32m\u001b[1m  No Changes\u001b[22m\u001b[39m to `~/.julia/environment/v1.8/Project.toml`\n",
      "\u001b[32m\u001b[1m  No Changes\u001b[22m\u001b[39m to `~/.julia/environment/v1.8/Manifest.toml`\n"
     ]
    },
    {
     "name": "stderr",
     "output_type": "stream",
     "text": [
      "\u001b[32m\u001b[1m   Resolving\u001b[22m\u001b[39m package versions...\n"
     ]
    },
    {
     "name": "stderr",
     "output_type": "stream",
     "text": [
      "\u001b[32m\u001b[1m  No Changes\u001b[22m\u001b[39m to `~/.julia/environment/v1.8/Project.toml`\n",
      "\u001b[32m\u001b[1m  No Changes\u001b[22m\u001b[39m to `~/.julia/environment/v1.8/Manifest.toml`\n"
     ]
    },
    {
     "name": "stderr",
     "output_type": "stream",
     "text": [
      "\u001b[32m\u001b[1m   Resolving\u001b[22m\u001b[39m package versions...\n"
     ]
    },
    {
     "name": "stderr",
     "output_type": "stream",
     "text": [
      "\u001b[32m\u001b[1m  No Changes\u001b[22m\u001b[39m to `~/.julia/environment/v1.8/Project.toml`\n",
      "\u001b[32m\u001b[1m  No Changes\u001b[22m\u001b[39m to `~/.julia/environment/v1.8/Manifest.toml`\n"
     ]
    }
   ],
   "source": [
    "using Pkg\n",
    "\n",
    "Pkg.add(\"Test\")\n",
    "Pkg.add(\"Graphs\")\n",
    "Pkg.add(\"MetaGraphs\")\n",
    "Pkg.add(\"TikzGraphs\")\n",
    "Pkg.add(\"CSV\")\n",
    "Pkg.add(\"SimpleWeightedGraphs\")"
   ]
  },
  {
   "cell_type": "code",
   "execution_count": 2,
   "metadata": {
    "collapsed": false
   },
   "outputs": [
   ],
   "source": [
    "using Test\n",
    "using Graphs\n",
    "using MetaGraphs\n",
    "using TikzGraphs\n",
    "using CSV\n",
    "using SimpleWeightedGraphs"
   ]
  },
  {
   "cell_type": "markdown",
   "metadata": {
    "collapsed": false
   },
   "source": [
    "## Goal of Lecture\n",
    "Introduction to shortest paths in graphs. In this lecture, we are going to discuss Dijkstra's Algorithm and Bellman-Ford Algorithm for finding shortest paths. We will go over each application's intuition, applications,  and it's limitations."
   ]
  },
  {
   "cell_type": "markdown",
   "metadata": {
    "collapsed": false
   },
   "source": [
    "# Read CSV file\n",
    "\n",
    "- The first thing that needs to be done is to read the CSV file to find all vertices and edges.\n",
    "- Each line of the CSV file is formatted as \"u,v,10\", this represents an edge between a vertex u and vertex v with weight 10.\n",
    "- The function read_csv() reads the CSV file and returns an array of tuples that contains the name of the two vertices and the weight between the two vertices"
   ]
  },
  {
   "cell_type": "code",
   "execution_count": 3,
   "metadata": {
    "collapsed": false
   },
   "outputs": [
    {
     "data": {
      "text/plain": [
       "read_csv (generic function with 1 method)"
      ]
     },
     "execution_count": 3,
     "metadata": {
     },
     "output_type": "execute_result"
    }
   ],
   "source": [
    "## Input: A CSV file\n",
    "## Output: An array of tuples\n",
    "## The function reads the csv file passed in and converts each line into a tuple for graph creation\n",
    "function read_csv(csv_file)\n",
    "    ## Reads CSV file\n",
    "    file = CSV.File(csv_file)\n",
    "    val_arr = []\n",
    "    ## Loop through each row of CSV file and create a tuple to push into val_arr\n",
    "    for row in file\n",
    "        push!(val_arr,(string(row.Start),string(row.End),row.Weight))\n",
    "    end\n",
    "    return val_arr\n",
    "end"
   ]
  },
  {
   "cell_type": "markdown",
   "metadata": {
    "collapsed": false
   },
   "source": [
    "# Creating Graph\n",
    "- The function create_graph() takes the array of tuples made in read_csv() and detects if there are negative weights in the graph. If there are negative weights, the algorithm will use the Bellman-Ford algorithm, otherwise it will use Dijkstra's algorithm.\n",
    "- It should be noted that Bellman-Ford algorithm only works on a directed graph. This will be explained later...\n",
    "- Another note, although this algorithm uses an undirected graph for Dijkstra's algorithm, the algorithm also works the same on a directed graph, it just needs to follow the directed edges"
   ]
  },
  {
   "cell_type": "code",
   "execution_count": 4,
   "metadata": {
    "collapsed": false
   },
   "outputs": [
    {
     "data": {
      "text/plain": [
       "create_graph (generic function with 1 method)"
      ]
     },
     "execution_count": 4,
     "metadata": {
     },
     "output_type": "execute_result"
    }
   ],
   "source": [
    "## Input: An array of tuples\n",
    "## Output: A directed graph or an undirected graph\n",
    "## The function looks for negative weight edges and determines whether to make a directed graph or undirected graph\n",
    "function create_graph(tup_arr)\n",
    "    is_neg = false\n",
    "    ## Loops through all the weights and looks for a negative value\n",
    "    for i in tup_arr\n",
    "        if i[3] < 0\n",
    "            is_neg = true\n",
    "        end\n",
    "    end\n",
    "    if is_neg == false\n",
    "        ## Since there are no negative weights, create an undirected graph\n",
    "        println(\"Using Dijsktra's Algorithm\")\n",
    "        return create_undirected_graph(tup_arr)\n",
    "    else\n",
    "        ## Since there are negative weights, create a directed graph\n",
    "        println(\"Using Bellman-Ford's Algorithm\")\n",
    "        return create_directed_graph(tup_arr)\n",
    "    end\n",
    "end"
   ]
  },
  {
   "cell_type": "code",
   "execution_count": 5,
   "metadata": {
    "collapsed": false
   },
   "outputs": [
    {
     "data": {
      "text/plain": [
       "create_undirected_graph (generic function with 1 method)"
      ]
     },
     "execution_count": 5,
     "metadata": {
     },
     "output_type": "execute_result"
    }
   ],
   "source": [
    "## Input: An array of tuples\n",
    "## Output: An undirected graph\n",
    "## The function reads each tuple, determines the number of vertices and assigns edges (with weights) between the vertices. This function uses a MetaGraph to\n",
    "## assign names to vertices and weights to the edges\n",
    "function create_undirected_graph(tup_arr)\n",
    "    ## Find all unique vertices in array\n",
    "    unique_arr = []\n",
    "    for i in tup_arr\n",
    "        if (i[1] in unique_arr) == false\n",
    "            push!(unique_arr,i[1])\n",
    "        end\n",
    "        if (i[2] in unique_arr) == false\n",
    "            push!(unique_arr,i[2])\n",
    "        end\n",
    "    end\n",
    "    ## Create Metagraph with the number of unique vertices found in the CSV file\n",
    "    mg = MetaGraph(SimpleGraph(size(unique_arr,1)))\n",
    "    count = 1\n",
    "    ## Loops through each of the vertices and assigns the name given in the CSV file. Also set indexing property for easier access to vertices\n",
    "    for j in vertices(mg)\n",
    "        set_prop!(mg,j,:name,unique_arr[count])\n",
    "        count += 1\n",
    "    end\n",
    "    set_indexing_prop!(mg,:name)\n",
    "    ## Loop through the array of tuples and assign edges between the vertices with the given weight\n",
    "    for k in tup_arr\n",
    "        add_edge!(mg,mg[k[1],:name],mg[k[2],:name])\n",
    "        set_prop!(mg,Edge(mg[k[1],:name],mg[k[2],:name]),:weight,k[3])\n",
    "    end\n",
    "    ## Return Metagraph\n",
    "    return mg\n",
    "end"
   ]
  },
  {
   "cell_type": "code",
   "execution_count": 6,
   "metadata": {
    "collapsed": false
   },
   "outputs": [
    {
     "data": {
      "text/plain": [
       "create_directed_graph (generic function with 1 method)"
      ]
     },
     "execution_count": 6,
     "metadata": {
     },
     "output_type": "execute_result"
    }
   ],
   "source": [
    "## Input: An array of tuples\n",
    "## Output: An directed graph\n",
    "## The function reads each tuple, determines the number of vertices and assigns edges (with weights) between the vertices. This function uses the\n",
    "## SimpleWeightedGraphs package to create a directed graph with weights. Since MetaGraph couldn't be used to assign names to each vertex, a dictionary\n",
    "## is used instead where the name of the vertex is the key for the index of the vertex\n",
    "function create_directed_graph(tup_arr)\n",
    "    ## Find all unique vertices in array\n",
    "    unique_arr = []\n",
    "    for i in tup_arr\n",
    "        if (i[1] in unique_arr) == false\n",
    "            push!(unique_arr,i[1])\n",
    "        end\n",
    "        if (i[2] in unique_arr) == false\n",
    "            push!(unique_arr,i[2])\n",
    "        end\n",
    "    end\n",
    "    ## Create a simple weighted directed graph\n",
    "    g = SimpleWeightedDiGraph(size(unique_arr,1))\n",
    "    ## Create dictionary where name of vertex is associated with index of that vertex\n",
    "    dict_key = Dict()\n",
    "    for j in 1:size(unique_arr,1)\n",
    "        dict_key[unique_arr[j]] = j\n",
    "    end\n",
    "    ## Loop through array of tuples and assign edges between the vertices with the given weight\n",
    "    for k in tup_arr\n",
    "        add_edge!(g,dict_key[k[1]],dict_key[k[2]],k[3])\n",
    "    end\n",
    "    ## Returns the graph and dictionary\n",
    "    return (g,dict_key)\n",
    "end"
   ]
  },
  {
   "cell_type": "markdown",
   "metadata": {
    "collapsed": false
   },
   "source": [
    "Testing to see if the graph created from the CSV file is correct:"
   ]
  },
  {
   "cell_type": "code",
   "execution_count": 7,
   "metadata": {
    "collapsed": false
   },
   "outputs": [
    {
     "name": "stdout",
     "output_type": "stream",
     "text": [
      "Using Dijsktra's Algorithm\n"
     ]
    },
    {
     "data": {
      "text/plain": [
       "\u001b[32m\u001b[1mTest Passed\u001b[22m\u001b[39m"
      ]
     },
     "execution_count": 7,
     "metadata": {
     },
     "output_type": "execute_result"
    }
   ],
   "source": [
    "arr = read_csv(\"DijkstraGraphEx.csv\")\n",
    "mg = create_graph(arr)\n",
    "\n",
    "## Check values to make sure metagraph is correct\n",
    "@test get_prop(mg,mg[arr[1][1],:name],mg[arr[1][2],:name],:weight) == 4\n",
    "@test get_prop(mg,mg[arr[2][1],:name],mg[arr[2][2],:name],:weight) == 8\n",
    "@test get_prop(mg,mg[arr[3][1],:name],mg[arr[3][2],:name],:weight) == 11\n",
    "@test get_prop(mg,mg[arr[4][1],:name],mg[arr[4][2],:name],:weight) == 8\n",
    "@test get_prop(mg,mg[arr[5][1],:name],mg[arr[5][2],:name],:weight) == 2\n",
    "@test get_prop(mg,mg[arr[6][1],:name],mg[arr[6][2],:name],:weight) == 7\n",
    "@test get_prop(mg,mg[arr[7][1],:name],mg[arr[7][2],:name],:weight) == 4\n",
    "@test get_prop(mg,mg[arr[8][1],:name],mg[arr[8][2],:name],:weight) == 14\n",
    "@test get_prop(mg,mg[arr[9][1],:name],mg[arr[9][2],:name],:weight) == 9\n",
    "@test get_prop(mg,mg[arr[10][1],:name],mg[arr[10][2],:name],:weight) == 10\n",
    "@test get_prop(mg,mg[arr[11][1],:name],mg[arr[11][2],:name],:weight) == 2\n",
    "@test get_prop(mg,mg[arr[12][1],:name],mg[arr[12][2],:name],:weight) == 6\n",
    "@test get_prop(mg,mg[arr[13][1],:name],mg[arr[13][2],:name],:weight) == 1\n",
    "@test get_prop(mg,mg[arr[14][1],:name],mg[arr[14][2],:name],:weight) == 7"
   ]
  },
  {
   "cell_type": "code",
   "execution_count": 8,
   "metadata": {
    "collapsed": false
   },
   "outputs": [
    {
     "name": "stdout",
     "output_type": "stream",
     "text": [
      "Using Bellman-Ford's Algorithm\n"
     ]
    },
    {
     "name": "stdout",
     "output_type": "stream",
     "text": [
      "Using Bellman-Ford's Algorithm\n",
      "Edge 1 => 2 with weight -1.0\n"
     ]
    },
    {
     "name": "stdout",
     "output_type": "stream",
     "text": [
      "Edge 1 => 3 with weight 4.0\n",
      "Edge 2 => 3 with weight 3.0\n",
      "Edge 2 => 4 with weight 2.0\n",
      "Edge 2 => 5 with weight 2.0\n",
      "Edge 4 => 2 with weight 1.0\n",
      "Edge 4 => 3 with weight 5.0\n",
      "Edge 5 => 4 with weight -3.0\n"
     ]
    },
    {
     "data": {
      "text/plain": [
       "Dict{Any, Any} with 5 entries:\n",
       "  \"B\" => 2\n",
       "  \"A\" => 1\n",
       "  \"C\" => 3\n",
       "  \"D\" => 4\n",
       "  \"E\" => 5"
      ]
     },
     "execution_count": 8,
     "metadata": {
     },
     "output_type": "execute_result"
    }
   ],
   "source": [
    "arr2 = read_csv(\"BellmanFordEx.csv\")\n",
    "g = create_graph(arr2)[1]\n",
    "dict_key = create_graph(arr2)[2]\n",
    "for i in edges(g)\n",
    "    println(i)\n",
    "end\n",
    "dict_key"
   ]
  },
  {
   "cell_type": "markdown",
   "metadata": {
    "collapsed": false
   },
   "source": [
    "# Dijsktra's Algorithm"
   ]
  },
  {
   "cell_type": "markdown",
   "metadata": {
    "collapsed": false
   },
   "source": [
    "Dijsktra's algorithm allows us to find the shortest path between any two vertices in a weighted graph, assuming that there exists a path between the two vertices.  This algorithm has broad applications such as finding the shortest path between the current location and the destination in apps like Google maps. The algorithm builds a set of vertices that have the minimum distance from the source, this algorithm is a greedy algorithm.\n",
    "- A greedy algorithm is an approach to solving a problem by selecting the best possible option at the moment, given any conditions\n",
    "\n",
    "The algorithm uses a priority queue to store the vertices that haven't been explored yet. The algorithm that I implemented below has a runtime of $\\theta$(|V|^2) where |V| is the number of vertices\n",
    "- It should be noted that by using a Fibonacci heap min priority queue, the runtime of Dijsktra's is cut down to $\\theta$(|E| + |V| log(|V|))\n",
    "\n",
    "Why does Dijsktra's algorithm work?\n",
    "- Since the algorithm is greedy, it picks the vertex with the smallest path cost so far, any other path will have an equal or more cost. Thus finding the neighbors of vertex at the end of the smallest cost path will also be min cost.\n",
    "- At each stage of the algorithm, it always checks that the vertex could lead to a shortest path, guaranteeing that all distances are minimum. Each iteration, you find the shortest path, or you can rule it out and move on to next vertex\n",
    "- It exploits the fact that the shortest path between x and z includes some vertex y where there is a shortest path from x to y and another shortest path from y to z\n",
    "\n",
    "Does Dijsktra's algorithm work with negative cost weights?\n",
    "- No. Since Dijsktra's algorithm is a greedy algorithm, once a vertex is visited and shortest path is computed, it can't be recalculated even if there is a shorter path. This problem occurs only if there are negative weights in the graph. This is why Dijsktra's algorithm assumes that all edge weights are positive.\n",
    "\n",
    "The pseudocode is as follows:\n",
    "- For each vertex v in G:\n",
    "\t- Set distance of vertex v from source vertex as infinity\n",
    "    - Set the previous vertex of v as NULL\n",
    "    - Add v to a priority queue Q if v isn't the source vertex\n",
    "- Set distance of source vertex to 0\n",
    "- While Q isn't empty:\n",
    "\t- x = vertex in Q with smallest distance\n",
    "    - For all unvisited neigbors y of x:\n",
    "    \t- temp_distance = distance(x) + edge_weight(x,y)\n",
    "        - If temp_distance < distance(y):\n",
    "        \t- distance(y) = temp_distance\n",
    "            - previous(y) = x\n",
    "- Return distance[] and previous[]"
   ]
  },
  {
   "cell_type": "code",
   "execution_count": 9,
   "metadata": {
    "collapsed": false
   },
   "outputs": [
    {
     "data": {
      "text/plain": [
       "recursive_path (generic function with 1 method)"
      ]
     },
     "execution_count": 9,
     "metadata": {
     },
     "output_type": "execute_result"
    }
   ],
   "source": [
    "## Input: The metagraph created earlier and a source vertex in the graph\n",
    "## Output: Prints out the shortest path from source vertex to all other vertices and it's distance\n",
    "function dijsktra_alg(meta_graph,src)\n",
    "    ## Initiate distance, previous, and parent array\n",
    "    ## dist_arr[i] holds the shortest distance from source vertex to vertex i\n",
    "    ## prev_arr[i] will be true if vertex i is included in shortest path, or if i has been visited\n",
    "    ## parent_arr[i] will hold index of the parent of i in shortest path (i.e. if vertex h is the second to last vertex in shortest path to i, then\n",
    "    ## parent_arr[i] = h)\n",
    "    dist_arr = Array{Float64}(undef,nv(meta_graph))\n",
    "    prev_arr = Array{Bool}(undef,nv(meta_graph))\n",
    "    parent_arr = Array{Float64}(undef,nv(meta_graph))\n",
    "    ## Set the distance of all vertices to infinite and prev_arr[] to false\n",
    "    for i in 1:nv(meta_graph)\n",
    "        dist_arr[i] = Inf\n",
    "        prev_arr[i] = false\n",
    "    end\n",
    "    ## Distance of source vertex from itself is always 0 and doesn't have any parents in shortest path\n",
    "    dist_arr[meta_graph[src,:name]] = 0\n",
    "    parent_arr[meta_graph[src,:name]] = -1\n",
    "    ## Find shortest path for all vertices\n",
    "    for i in 1:nv(meta_graph)\n",
    "        ## Pick vertex with minimum distance and closest_vertex is always source vertex in first iteration\n",
    "        closest_vertex = -1\n",
    "        shortest_dist = Inf\n",
    "        for j in 1:nv(meta_graph)\n",
    "            if (prev_arr[j] == false) && (dist_arr[j] < shortest_dist)\n",
    "                closest_vertex = j\n",
    "                shortest_dist = dist_arr[j]\n",
    "            end\n",
    "        end\n",
    "        ## Set closest_vertex as visited\n",
    "        try\n",
    "            prev_arr[closest_vertex] = true\n",
    "        catch\n",
    "            continue\n",
    "        end\n",
    "        ## Updates the distance of closest_vertex neighbors\n",
    "        for k in 1:nv(meta_graph)\n",
    "            edge_dist = 0\n",
    "            try\n",
    "                edge_dist = get_prop(meta_graph,closest_vertex,k,:weight)\n",
    "            catch\n",
    "                edge_dist = 0\n",
    "            end\n",
    "            if (edge_dist > 0) && ((shortest_dist + edge_dist) < dist_arr[k])\n",
    "                parent_arr[k] = closest_vertex\n",
    "                dist_arr[k] = shortest_dist + edge_dist\n",
    "            end\n",
    "        end\n",
    "    end\n",
    "    ## Prints out distance and shortest path from source vertex to all other vertices\n",
    "    print_dijsktra(meta_graph,src,dist_arr,parent_arr)\n",
    "end\n",
    "\n",
    "## Helper function to print out distance from src to all other vertices and the path to get to that vertex\n",
    "function print_dijsktra(meta_graph,src,dist_arr,parent_arr)\n",
    "    for i in 1:nv(meta_graph)\n",
    "        if i != meta_graph[src,:name]\n",
    "            if dist_arr[i] == Inf\n",
    "                println(\"Vertex: \" * src * \" -> \" * meta_graph[i,:name] * \"\\tCould not find path\")\n",
    "            else\n",
    "                print(\"Vertex: \" * src * \" -> \" * meta_graph[i,:name] * \"\\t\" * \"Distance: \" * string(dist_arr[i]) * \"\\tPath: \"*src*\" \")\n",
    "                recursive_path(meta_graph,i,parent_arr)\n",
    "                print(\"\\n\")\n",
    "            end\n",
    "        end\n",
    "    end\n",
    "end\n",
    "\n",
    "## Helper function to print path with recursion\n",
    "function recursive_path(meta_graph,src,parent_arr)\n",
    "    if parent_arr[src] == -1\n",
    "        return\n",
    "    end\n",
    "    parent_data = Int64(parent_arr[src])\n",
    "    recursive_path(meta_graph,Int64(parent_arr[src]),parent_arr)\n",
    "    print(string(meta_graph[src,:name])*\" \")\n",
    "end"
   ]
  },
  {
   "cell_type": "markdown",
   "metadata": {
    "collapsed": false
   },
   "source": [
    "## 1st Example"
   ]
  },
  {
   "cell_type": "markdown",
   "metadata": {
    "collapsed": false
   },
   "source": [
    "Before proceeding, try finding the shortest path from \"7\" to \"4\""
   ]
  },
  {
   "cell_type": "markdown",
   "metadata": {
    "collapsed": false
   },
   "source": [
    "<img src=\"DijkstraAlgEx1.png\"   width=\"816.725586px\"  height=\"431.127747px\"  style=\"object-fit:cover\"/>"
   ]
  },
  {
   "cell_type": "code",
   "execution_count": 10,
   "metadata": {
    "collapsed": false
   },
   "outputs": [
    {
     "name": "stdout",
     "output_type": "stream",
     "text": [
      "Using Dijsktra's Algorithm\n"
     ]
    },
    {
     "name": "stdout",
     "output_type": "stream",
     "text": [
      "Vertex: 7 -> 0\tDistance: 8.0\tPath: 7 0 \n",
      "Vertex: 7 -> 1\tDistance: 11.0\tPath: 7 1 \n",
      "Vertex: 7 -> 2\tDistance: 7.0\tPath: 7 6 5 2 \n",
      "Vertex: 7 -> 8\tDistance: 7.0\tPath: 7 8 \n",
      "Vertex: 7 -> 3\tDistance: 14.0\tPath: 7 6 5 2 3 \n",
      "Vertex: 7 -> 5\tDistance: 3.0\tPath: 7 6 5 \n",
      "Vertex: 7 -> 4\tDistance: 13.0\tPath: 7 6 5 4 \n",
      "Vertex: 7 -> 6\tDistance: 1.0\tPath: 7 6 \n",
      "Vertex: 7 -> 99\tCould not find path\n",
      "Vertex: 7 -> 21\tCould not find path\n"
     ]
    }
   ],
   "source": [
    "arr = read_csv(\"DijkstraGraphEx.csv\")\n",
    "mg = create_graph(arr)\n",
    "## Vertex 99 and 21 are connected but in a different component, want to show that if there is no path to those two verices\n",
    "dijsktra_alg(mg,\"7\")"
   ]
  },
  {
   "cell_type": "code",
   "execution_count": 11,
   "metadata": {
    "collapsed": false
   },
   "outputs": [
    {
     "name": "stdout",
     "output_type": "stream",
     "text": [
      "Vertex: 8 -> 0\tDistance: 14.0\tPath: 8 2 1 0 \n",
      "Vertex: 8 -> 1\tDistance: 10.0\tPath: 8 2 1 \n",
      "Vertex: 8 -> 7\tDistance: 7.0\tPath: 8 7 \n",
      "Vertex: 8 -> 2\tDistance: 2.0\tPath: 8 2 \n",
      "Vertex: 8 -> 3\tDistance: 9.0\tPath: 8 2 3 \n",
      "Vertex: 8 -> 5\tDistance: 6.0\tPath: 8 2 5 \n",
      "Vertex: 8 -> 4\tDistance: 16.0\tPath: 8 2 5 4 \n",
      "Vertex: 8 -> 6\tDistance: 6.0\tPath: 8 6 \n",
      "Vertex: 8 -> 99\tCould not find path\n",
      "Vertex: 8 -> 21\tCould not find path\n"
     ]
    }
   ],
   "source": [
    "dijsktra_alg(mg,\"8\")"
   ]
  },
  {
   "cell_type": "markdown",
   "metadata": {
    "collapsed": false
   },
   "source": [
    "## 2nd Example"
   ]
  },
  {
   "cell_type": "markdown",
   "metadata": {
    "collapsed": false
   },
   "source": [
    "Try finding shortest path from \"0\" to \"6\"\n",
    "\n",
    "<img src=\"DijkstraAlgEx2.png\"   width=\"816.725586px\"  height=\"431.127747px\"  style=\"object-fit:cover\"/>"
   ]
  },
  {
   "cell_type": "code",
   "execution_count": 12,
   "metadata": {
    "collapsed": false
   },
   "outputs": [
    {
     "name": "stdout",
     "output_type": "stream",
     "text": [
      "Using Dijsktra's Algorithm\n",
      "Vertex: 0 -> 1\tDistance: 2.0\tPath: 0 1 \n",
      "Vertex: 0 -> 2\tDistance: 6.0\tPath: 0 2 \n",
      "Vertex: 0 -> 3\tDistance: 7.0\tPath: 0 1 3 \n",
      "Vertex: 0 -> 5\tDistance: 22.0\tPath: 0 1 3 5 \n",
      "Vertex: 0 -> 4\tDistance: 17.0\tPath: 0 1 3 4 \n",
      "Vertex: 0 -> 6\tDistance: 19.0\tPath: 0 1 3 4 6 \n"
     ]
    }
   ],
   "source": [
    "arr2 = read_csv(\"DijkstraGraphEx2.csv\")\n",
    "mg2 = create_graph(arr2)\n",
    "## Vertex 99 and 21 are connected but in a different component, want to show that if there is no path to those two verices\n",
    "dijsktra_alg(mg2,\"0\")"
   ]
  },
  {
   "cell_type": "code",
   "execution_count": 13,
   "metadata": {
    "collapsed": false
   },
   "outputs": [
    {
     "name": "stdout",
     "output_type": "stream",
     "text": [
      "Vertex: 3 -> 0\tDistance: 7.0\tPath: 3 1 0 \n",
      "Vertex: 3 -> 1\tDistance: 5.0\tPath: 3 1 \n",
      "Vertex: 3 -> 2\tDistance: 8.0\tPath: 3 2 \n",
      "Vertex: 3 -> 5\tDistance: 15.0\tPath: 3 5 \n",
      "Vertex: 3 -> 4\tDistance: 10.0\tPath: 3 4 \n",
      "Vertex: 3 -> 6\tDistance: 12.0\tPath: 3 4 6 \n"
     ]
    }
   ],
   "source": [
    "dijsktra_alg(mg2,\"3\")"
   ]
  },
  {
   "cell_type": "markdown",
   "metadata": {
    "collapsed": false
   },
   "source": [
    "## Bellman-Ford Algorithm\n",
    "\n",
    "Bellman-Ford Algorithm is similar to Dijkstra's algorithm in that it is an algorithm that tries to find the shortest path between a source vertex and any other vertex reachable from that source vertex. The biggest difference between the two algorithms is that the Bellman-Ford algorithm will work on a graph with negative weights. However, the draw back is that Dijkstra's algorithm has a faster runtime compared to the Bellman-Ford algorithm\n",
    "- Bellman-Ford algorithm has a runtime of $\\theta$(|V|*|E|) where |V| is the number of vertices and |E| is the number of edges\n",
    "- Remember that Dijkstra's runtime is $\\theta$(|E| + |V| log(|V|))\n",
    "\n",
    "Why does Bellman-Ford Algorithm work?\n",
    "- Unlike Dijkstra's algorithm which is a greedy algorithm, Bellman-Ford algorithm is a dynamic programming algorithm\n",
    "- The length of shortest path can be at most n-1 edges. The first iteration of the algorithm builds a possible path between two vertices with one edge. Each iteration tries to find a better path by adding one more edge. (i.e. on the i-th iteration it tries to find lowest cost path of i edges from source to each vertex)\n",
    "\n",
    "Exceptions:\n",
    "- The algorithm will not work with a graph that has a negative weight cycle\n",
    "\t- A negative weight cycle is a cycle where the sum of the edge weights are negative\n",
    "    - It doesn't work because the algorithm can infinitely compute the shortest path by going through the negative weight cycle\n",
    "- The algorithm will not work on an undirected graph\n",
    "\t- You can think of an undirected edge as a two way directed edge with one going from vertex u to v and another going from v to u\n",
    "    - If there is a negative undirected edge weight, this is basically a negative weight cycle because the algorithm can keep going from u to v and vice versa\n",
    "\n",
    "The psuedocode is as follows:\n",
    "- For each vertex v in G\n",
    "\t- Set distance of vertex v as infinite from source vertex\n",
    "    - Set previous vertex of v as NULL\n",
    "- Set distance of source vertex to 0\n",
    "- For each vertex v in G\n",
    "\t- For each edge (u,v) in G\n",
    "    \t- Set temp_distance to distance(u) + edge_weight(u,v)\n",
    "        - If temp_distance < distance(v), set distance(v) to temp_distance and previous vertex of v to u\n",
    "- For each edge (u,v) in G\n",
    "\t- If distance(u) + edge_weight(u,v) < distance(v), then there exists a negative weight cycle and return error\n",
    "- Return distance[] and previous[]"
   ]
  },
  {
   "cell_type": "code",
   "execution_count": 14,
   "metadata": {
    "collapsed": false
   },
   "outputs": [
    {
     "data": {
      "text/plain": [
       "find_key (generic function with 1 method)"
      ]
     },
     "execution_count": 14,
     "metadata": {
     },
     "output_type": "execute_result"
    }
   ],
   "source": [
    "## Input: The weighted directed graph created earlier and a source vertex in the graph (note: source vertex is the name of vertex, not the index of it)\n",
    "## Output: Prints out the shortest path from source vertex to all other vertices and it's distance\n",
    "function bellman_ford_alg(g,src,dict_key)\n",
    "    ## Get index of source vertex\n",
    "    src_vertex = dict_key[src]\n",
    "    ## Initiate distance and predecessor array\n",
    "    ## dist_arr[i] holds the shortest distance from source vertex to vertex i\n",
    "    ## predecessor[i] holds index of previous vertex for shortest path from source vertex to vertex i\n",
    "    dist_arr = Array{Float64}(undef,nv(g))\n",
    "    predecessor_arr = Array{Int64}(undef,nv(g))\n",
    "    ## Set distance of all vertices from source vertex to infinite\n",
    "    for i in 1:nv(g)\n",
    "        dist_arr[i] = Inf\n",
    "    end\n",
    "    ## Set distance of source vertex is 0 and predecssor to -1 since there is no path from source to source\n",
    "    dist_arr[src_vertex] = 0\n",
    "    predecessor_arr[src_vertex] = -1\n",
    "    ## Relax all edges |V|-1 times. Shortest path can have at most |V|-1 edges\n",
    "    for j in 1:nv(g)\n",
    "        for k in edges(g)\n",
    "            u = Graphs.src(k)\n",
    "            v = Graphs.dst(k)\n",
    "            edge_weight = get_weight(g,u,v)\n",
    "            if (dist_arr[u] != Inf) && ((dist_arr[u] + edge_weight) < dist_arr[v])\n",
    "                dist_arr[v] = dist_arr[u] + edge_weight\n",
    "                predecessor_arr[v] = u\n",
    "            end\n",
    "        end\n",
    "    end\n",
    "    ## Loops one more time and if it finds a shorter path, then there is a negative cycle since the above step guarantees a shortest path\n",
    "    for i in edges(g)\n",
    "        x = Graphs.src(i)\n",
    "        y = Graphs.dst(i)\n",
    "        weight = get_weight(g,x,y)\n",
    "        if (dist_arr[x] != Inf) && ((dist_arr[x] + weight) < dist_arr[y])\n",
    "            return \"Negative Weight Cycle Detected\"\n",
    "        end\n",
    "    end\n",
    "    ## Prints out shortest path to all vertices and distance\n",
    "    print_dist(g,dist_arr,dict_key,predecessor_arr,src_vertex)\n",
    "end\n",
    "\n",
    "## Helper function to print out the shortest path and distance\n",
    "function print_dist(g,dist_arr,dict_key,predecessor_arr,src)\n",
    "    println(\"Vertex distance from source\")\n",
    "    for i in 1:nv(g)\n",
    "        if i != src\n",
    "            if dist_arr[i] == Inf\n",
    "                println(\"Vertex: \" * find_key(src,dict_key) * \" -> \" * find_key(i,dict_key) * \"\\tCould not find path\")\n",
    "            else\n",
    "                print(\"Vertex: \" * find_key(src,dict_key) * \" -> \" * find_key(i,dict_key) * \"\\tDistance: \"* string(dist_arr[i])*\"\\tPath: \")\n",
    "                print_path(g,dict_key,i,predecessor_arr)\n",
    "                print(\"\\n\")\n",
    "            end\n",
    "        end\n",
    "    end\n",
    "end\n",
    "\n",
    "## Helper function to print the path from source to all other vertices\n",
    "function print_path(g,dict_key,target,predecessor_arr)\n",
    "    curr = target\n",
    "    path = []\n",
    "    while curr != -1\n",
    "        insert!(path,1,curr)\n",
    "        curr = predecessor_arr[curr]\n",
    "    end\n",
    "    for i in path\n",
    "        print(find_key(i,dict_key)*\" \")\n",
    "    end\n",
    "end\n",
    "\n",
    "## Helper function to find name of vertex given it's index\n",
    "function find_key(val,dict_key)\n",
    "    for k in keys(dict_key)\n",
    "        if dict_key[k] == val\n",
    "            return k\n",
    "        end\n",
    "    end\n",
    "end"
   ]
  },
  {
   "cell_type": "markdown",
   "metadata": {
    "collapsed": false
   },
   "source": [
    "## 1st Example\n",
    "Try finding shortest path from \"A\" to \"E\"\n",
    "\n",
    "<img src=\"BellmanFordAlgEx1.png\"   width=\"816.725586px\"  height=\"600px\"  style=\"object-fit:cover\"/>"
   ]
  },
  {
   "cell_type": "code",
   "execution_count": 15,
   "metadata": {
    "collapsed": false
   },
   "outputs": [
    {
     "name": "stdout",
     "output_type": "stream",
     "text": [
      "Using Bellman-Ford's Algorithm\n",
      "Using Bellman-Ford's Algorithm\n"
     ]
    },
    {
     "name": "stdout",
     "output_type": "stream",
     "text": [
      "Vertex distance from source\n",
      "Vertex: D -> A\tCould not find path\n",
      "Vertex: D -> B\tDistance: 1.0\tPath: D B \n",
      "Vertex: D -> C\tDistance: 4.0\tPath: D B C \n",
      "Vertex: D -> E\tDistance: 3.0\tPath: D B E \n"
     ]
    }
   ],
   "source": [
    "arr3 = read_csv(\"BellmanFordEx.csv\")\n",
    "g = create_graph(arr3)[1]\n",
    "dict_key = create_graph(arr3)[2]\n",
    "bellman_ford_alg(g,\"D\",dict_key)"
   ]
  },
  {
   "cell_type": "code",
   "execution_count": 16,
   "metadata": {
    "collapsed": false
   },
   "outputs": [
    {
     "name": "stdout",
     "output_type": "stream",
     "text": [
      "Vertex distance from source\n",
      "Vertex: A -> B\tDistance: -1.0\tPath: A B \n",
      "Vertex: A -> C\tDistance: 2.0\tPath: A B C \n",
      "Vertex: A -> D\tDistance: -2.0\tPath: A B E D \n",
      "Vertex: A -> E\tDistance: 1.0\tPath: A B E \n"
     ]
    }
   ],
   "source": [
    "bellman_ford_alg(g,\"A\",dict_key)"
   ]
  },
  {
   "cell_type": "markdown",
   "metadata": {
    "collapsed": false
   },
   "source": [
    "## 2nd Example\n",
    "Try finding shortest path from \"0\" to \"6\"\n",
    "\n",
    "<img src=\"BellmanFordAlgEx2.png\"   width=\"816.725586px\"  height=\"600px\"  style=\"object-fit:cover\"/>"
   ]
  },
  {
   "cell_type": "code",
   "execution_count": 17,
   "metadata": {
    "collapsed": false
   },
   "outputs": [
    {
     "name": "stdout",
     "output_type": "stream",
     "text": [
      "Using Bellman-Ford's Algorithm\n",
      "Using Bellman-Ford's Algorithm\n",
      "Vertex distance from source\n",
      "Vertex: 0 -> 4\tDistance: 3.0\tPath: 0 2 4 \n",
      "Vertex: 0 -> 2\tDistance: 2.0\tPath: 0 2 \n",
      "Vertex: 0 -> 1\tDistance: 1.0\tPath: 0 2 4 6 1 \n",
      "Vertex: 0 -> 6\tDistance: 6.0\tPath: 0 2 4 6 \n"
     ]
    }
   ],
   "source": [
    "arr4 = read_csv(\"BellmanFordEx2.csv\")\n",
    "g2 = create_graph(arr4)[1]\n",
    "dict_key2 = create_graph(arr4)[2]\n",
    "bellman_ford_alg(g2,\"0\",dict_key2)"
   ]
  },
  {
   "cell_type": "code",
   "execution_count": 18,
   "metadata": {
    "collapsed": false
   },
   "outputs": [
    {
     "name": "stdout",
     "output_type": "stream",
     "text": [
      "Vertex distance from source\n",
      "Vertex: 2 -> 0\tCould not find path\n",
      "Vertex: 2 -> 4\tDistance: 1.0\tPath: 2 4 \n",
      "Vertex: 2 -> 1\tDistance: -1.0\tPath: 2 4 6 1 \n",
      "Vertex: 2 -> 6\tDistance: 4.0\tPath: 2 4 6 \n"
     ]
    }
   ],
   "source": [
    "bellman_ford_alg(g2,\"2\",dict_key2)"
   ]
  },
  {
   "cell_type": "markdown",
   "metadata": {
    "collapsed": false
   },
   "source": [
    "## Conclusion and Applications\n",
    "As mentioned above, finding shortest path in a graph is applicable to a maps app like Google Maps, but there are a lot of other real life applications that can be used. For example, this can be used for social networking apps, telephone networking, and IP routing to find open shortest path. It is clear that graphs can be used to represent a lot of real life situations and finding shortest path between two vertices is fundamental to graph theory since the goal is to optimize applications."
   ]
  },
  {
   "cell_type": "code",
   "execution_count": 0,
   "metadata": {
    "collapsed": false
   },
   "outputs": [
   ],
   "source": [
   ]
  }
 ],
 "metadata": {
  "kernelspec": {
   "display_name": "Julia 1.8",
   "env": {
    "JULIA_DEPOT_PATH": "/home/user/.julia/:/ext/julia/depot/",
    "JULIA_PROJECT": "/home/user/.julia/environment/v1.8"
   },
   "language": "julia",
   "metadata": {
    "cocalc": {
     "description": "The Julia Programming Language",
     "priority": 10,
     "url": "https://julialang.org/"
    }
   },
   "name": "julia-1.8",
   "resource_dir": "/ext/jupyter/kernels/julia-1.8"
  },
  "language_info": {
   "file_extension": ".jl",
   "mimetype": "application/julia",
   "name": "julia",
   "version": "1.8.4"
  }
 },
 "nbformat": 4,
 "nbformat_minor": 4
}